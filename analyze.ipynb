{
 "cells": [
  {
   "cell_type": "code",
   "execution_count": 1,
   "metadata": {},
   "outputs": [
    {
     "data": {
      "text/plain": [
       "8"
      ]
     },
     "execution_count": 1,
     "metadata": {},
     "output_type": "execute_result"
    }
   ],
   "source": [
    "from glob import glob\n",
    "import os\n",
    "device_images = glob('./static/images/*.jpeg')\n",
    "device_images += glob('./static/images/*.png')\n",
    "device_images += glob('./static/images/*.jpg')\n",
    "len(device_images)"
   ]
  },
  {
   "cell_type": "code",
   "execution_count": 5,
   "metadata": {},
   "outputs": [
    {
     "name": "stdout",
     "output_type": "stream",
     "text": [
      "lower limb orthoses.jpeg\n",
      "walkers.jpeg\n",
      "crutch.png\n",
      "walking stick.png\n",
      "spinal orthoses.jpg\n",
      "upper limb orthoses.jpg\n",
      "walker_Row.jpg\n",
      "wheelchairs.jpg\n"
     ]
    }
   ],
   "source": [
    "for i in range(len(device_images)):    \n",
    "    print(device_images[i].split(\"\\\\\")[-1])"
   ]
  },
  {
   "cell_type": "code",
   "execution_count": 7,
   "metadata": {},
   "outputs": [
    {
     "name": "stdout",
     "output_type": "stream",
     "text": [
      "lower limb orthoses.jpeg\n"
     ]
    },
    {
     "data": {
      "text/plain": [
       "('lower limb orthoses', '.jpeg')"
      ]
     },
     "execution_count": 7,
     "metadata": {},
     "output_type": "execute_result"
    }
   ],
   "source": [
    "device_images[0]\n",
    "print(os.path.basename(device_images[0]))\n",
    "os.path.splitext(os.path.basename(device_images[0]))"
   ]
  },
  {
   "cell_type": "code",
   "execution_count": 8,
   "metadata": {},
   "outputs": [
    {
     "name": "stdout",
     "output_type": "stream",
     "text": [
      "Device name: lower limb orthoses\n",
      "Device name: walkers\n",
      "Device name: crutch\n",
      "Device name: walking stick\n",
      "Device name: spinal orthoses\n",
      "Device name: upper limb orthoses\n",
      "Device name: walker_Row\n",
      "Device name: wheelchairs\n"
     ]
    }
   ],
   "source": [
    "for device_image in device_images:\n",
    "    device_name = os.path.splitext(os.path.basename(device_image))[0]\n",
    "    filename = device_image.split(\"\\\\\")[-1]\n",
    "    print(f\"Device name: {device_name}\")\n"
   ]
  },
  {
   "cell_type": "code",
   "execution_count": 9,
   "metadata": {},
   "outputs": [
    {
     "name": "stdout",
     "output_type": "stream",
     "text": [
      "lower limb orthoses\n",
      "walkers\n",
      "crutch\n",
      "walking stick\n",
      "spinal orthoses\n",
      "upper limb orthoses\n",
      "walker_Row\n",
      "wheelchairs\n"
     ]
    }
   ],
   "source": [
    "for i in range(len(device_images)):\n",
    "    print(device_images[i].split('.')[1].split('\\\\')[-1])"
   ]
  },
  {
   "cell_type": "code",
   "execution_count": 15,
   "metadata": {},
   "outputs": [
    {
     "data": {
      "text/plain": [
       "[{'filename': 'lower limb orthoses.jpeg',\n",
       "  'name': 'lower limb orthoses',\n",
       "  'description': 'Orthosis that encompasses the knee and ankle joints and the foot.'},\n",
       " {'filename': 'walkers.jpeg',\n",
       "  'name': 'walkers',\n",
       "  'description': 'Frame that helps a person to maintain stability and balance while walking or standing, with either four tips (ferrules) or two tips and two castors'},\n",
       " {'filename': 'crutch.png',\n",
       "  'name': 'crutch',\n",
       "  'description': 'Devices providing support when walking that have a horizontal padded support that is placed against the upper body next to the armpit'},\n",
       " {'filename': 'walking stick.png',\n",
       "  'name': 'walking stick',\n",
       "  'description': 'Device providing support when walking that has a single shaft that branches into three or four shaft, each of which ends with a non-slip tip (ferrule)'},\n",
       " {'filename': 'spinal orthoses.jpg',\n",
       "  'name': 'spinal orthoses',\n",
       "  'description': 'Orthosis that encompasses the whole or part of the thoracic, lumbar and sacro-iliac regions of the truck.'},\n",
       " {'filename': 'upper limb orthoses.jpg',\n",
       "  'name': 'upper limb orthoses',\n",
       "  'description': 'Used to stabilize (immobilize) the wrist and hand in the desired position to rest the joint, tendons, ligaments or maintain a certain bone alignment.'},\n",
       " {'filename': 'walker_Row.jpg',\n",
       "  'name': 'walker_Row',\n",
       "  'description': 'Frame that help a person to maintain stability and balance while walking, that has hand grips and three or more wheels (with or without a platform)'},\n",
       " {'filename': 'wheelchairs.jpg',\n",
       "  'name': 'wheelchairs',\n",
       "  'description': 'Intended to be self-propelled by the users by pushing rims or wheels. Can be used indoor/outdoor and on various types of terrain'}]"
      ]
     },
     "execution_count": 15,
     "metadata": {},
     "output_type": "execute_result"
    }
   ],
   "source": [
    "devices = []\n",
    "descriptions = {\n",
    "    \"lower limb orthoses\": \"Orthosis that encompasses the knee and ankle joints and the foot.\",\n",
    "    \"walkers\": \"Frame that helps a person to maintain stability and balance while walking or standing, with either four tips (ferrules) or two tips and two castors\",\n",
    "    \"crutch\": \"Devices providing support when walking that have a horizontal padded support that is placed against the upper body next to the armpit\",\n",
    "    \"walking stick\": \"Device providing support when walking that has a single shaft that branches into three or four shaft, each of which ends with a non-slip tip (ferrule)\",\n",
    "    \"spinal orthoses\":\"Orthosis that encompasses the whole or part of the thoracic, lumbar and sacro-iliac regions of the truck.\",\n",
    "    \"upper limb orthoses\": \"Used to stabilize (immobilize) the wrist and hand in the desired position to rest the joint, tendons, ligaments or maintain a certain bone alignment.\",\n",
    "    \"walker_Row\": \"Frame that help a person to maintain stability and balance while walking, that has hand grips and three or more wheels (with or without a platform)\",\n",
    "    \"wheelchairs\": \"Intended to be self-propelled by the users by pushing rims or wheels. Can be used indoor/outdoor and on various types of terrain\"\n",
    "\n",
    "}\n",
    "for id, device_image in enumerate(device_images):\n",
    "    device_name = device_image.split('.')[1].split('\\\\')[-1]\n",
    "    filename = device_image.split(\"\\\\\")[-1]\n",
    "    devices.append({\n",
    "        \"filename\": filename,\n",
    "        \"name\": device_name,\n",
    "        \"description\": descriptions[device_name]\n",
    "    })\n",
    "devices"
   ]
  },
  {
   "cell_type": "markdown",
   "metadata": {},
   "source": [
    "crutches: Devices providing support when walking that have\n",
    "a horizontal padded support that is placed against\n",
    "the upper body next to the armpit\n",
    "\n",
    "Walking sticks and canes: Device providing support when walking that has a single shaft that branches into three or four shaft, each of which ends with a non-slip tip (ferrule).\n",
    "\n",
    "Walkers: Frame that helps a person to maintain stability and balance while walking or standing, with either four tips (ferrules) or two tips and two castors\n",
    "\n",
    "Wheelchairs: Intended to be self-propelled by the users by \n",
    "pushing rims or wheels. Can be used indoor/outdoor and on various types of terrain\n",
    "\n",
    "Lower limb orthoses: Orthosis that encompasses the knee and ankle joints and the foot.\n",
    "\n",
    "Upper limb orthoses: Used to stabilize (immobilize) the wrist and hand in the desired position to rest the joint, tendons, ligaments or maintain a certain bone alignment. \n",
    "\n",
    "spinal orthoses: Orthosis that encompasses the whole or part of the thoracic, lumbar and sacro-iliac regions of the truck."
   ]
  },
  {
   "cell_type": "code",
   "execution_count": null,
   "metadata": {},
   "outputs": [],
   "source": []
  }
 ],
 "metadata": {
  "kernelspec": {
   "display_name": "Python 3",
   "language": "python",
   "name": "python3"
  },
  "language_info": {
   "codemirror_mode": {
    "name": "ipython",
    "version": 3
   },
   "file_extension": ".py",
   "mimetype": "text/x-python",
   "name": "python",
   "nbconvert_exporter": "python",
   "pygments_lexer": "ipython3",
   "version": "3.11.5"
  }
 },
 "nbformat": 4,
 "nbformat_minor": 2
}
